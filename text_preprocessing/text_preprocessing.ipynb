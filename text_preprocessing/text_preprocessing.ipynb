{
  "cells": [
    {
      "cell_type": "code",
      "execution_count": 2,
      "metadata": {
        "colab": {
          "base_uri": "https://localhost:8080/"
        },
        "id": "JDULoROVs3zb",
        "outputId": "fb156c5c-9891-4bca-e016-deea2158459f"
      },
      "outputs": [
        {
          "name": "stdout",
          "output_type": "stream",
          "text": [
            "Defaulting to user installation because normal site-packages is not writeable\n",
            "Collecting scikit-learn\n",
            "  Downloading scikit_learn-1.6.0-cp313-cp313-win_amd64.whl.metadata (15 kB)\n",
            "Requirement already satisfied: numpy>=1.19.5 in c:\\users\\komal\\appdata\\roaming\\python\\python313\\site-packages (from scikit-learn) (2.2.1)\n",
            "Collecting scipy>=1.6.0 (from scikit-learn)\n",
            "  Downloading scipy-1.15.0-cp313-cp313-win_amd64.whl.metadata (60 kB)\n",
            "Requirement already satisfied: joblib>=1.2.0 in c:\\users\\komal\\appdata\\roaming\\python\\python313\\site-packages (from scikit-learn) (1.4.2)\n",
            "Collecting threadpoolctl>=3.1.0 (from scikit-learn)\n",
            "  Using cached threadpoolctl-3.5.0-py3-none-any.whl.metadata (13 kB)\n",
            "Downloading scikit_learn-1.6.0-cp313-cp313-win_amd64.whl (11.1 MB)\n",
            "   ---------------------------------------- 0.0/11.1 MB ? eta -:--:--\n",
            "   ---------------------------------------- 0.0/11.1 MB ? eta -:--:--\n",
            "   ---------------------------------------- 0.0/11.1 MB ? eta -:--:--\n",
            "    --------------------------------------- 0.3/11.1 MB ? eta -:--:--\n",
            "   - -------------------------------------- 0.5/11.1 MB 948.5 kB/s eta 0:00:12\n",
            "   --- ------------------------------------ 1.0/11.1 MB 1.5 MB/s eta 0:00:07\n",
            "   ---- ----------------------------------- 1.3/11.1 MB 1.7 MB/s eta 0:00:06\n",
            "   ----- ---------------------------------- 1.6/11.1 MB 1.6 MB/s eta 0:00:06\n",
            "   ------- -------------------------------- 2.1/11.1 MB 1.7 MB/s eta 0:00:06\n",
            "   -------- ------------------------------- 2.4/11.1 MB 1.8 MB/s eta 0:00:05\n",
            "   -------- ------------------------------- 2.4/11.1 MB 1.8 MB/s eta 0:00:05\n",
            "   -------- ------------------------------- 2.4/11.1 MB 1.8 MB/s eta 0:00:05\n",
            "   -------- ------------------------------- 2.4/11.1 MB 1.8 MB/s eta 0:00:05\n",
            "   ------------ --------------------------- 3.4/11.1 MB 1.5 MB/s eta 0:00:06\n",
            "   ------------ --------------------------- 3.4/11.1 MB 1.5 MB/s eta 0:00:06\n",
            "   ------------- -------------------------- 3.7/11.1 MB 1.3 MB/s eta 0:00:06\n",
            "   ------------- -------------------------- 3.7/11.1 MB 1.3 MB/s eta 0:00:06\n",
            "   -------------- ------------------------- 3.9/11.1 MB 1.2 MB/s eta 0:00:06\n",
            "   -------------- ------------------------- 3.9/11.1 MB 1.2 MB/s eta 0:00:06\n",
            "   -------------- ------------------------- 3.9/11.1 MB 1.2 MB/s eta 0:00:06\n",
            "   -------------- ------------------------- 3.9/11.1 MB 1.2 MB/s eta 0:00:06\n",
            "   ------------------- -------------------- 5.5/11.1 MB 1.4 MB/s eta 0:00:05\n",
            "   ---------------------- ----------------- 6.3/11.1 MB 1.5 MB/s eta 0:00:04\n",
            "   ------------------------ --------------- 6.8/11.1 MB 1.5 MB/s eta 0:00:03\n",
            "   ------------------------- -------------- 7.1/11.1 MB 1.5 MB/s eta 0:00:03\n",
            "   -------------------------- ------------- 7.3/11.1 MB 1.5 MB/s eta 0:00:03\n",
            "   --------------------------- ------------ 7.6/11.1 MB 1.5 MB/s eta 0:00:03\n",
            "   ----------------------------- ---------- 8.1/11.1 MB 1.5 MB/s eta 0:00:02\n",
            "   -------------------------------- ------- 8.9/11.1 MB 1.6 MB/s eta 0:00:02\n",
            "   ------------------------------------ --- 10.0/11.1 MB 1.7 MB/s eta 0:00:01\n",
            "   ------------------------------------- -- 10.5/11.1 MB 1.8 MB/s eta 0:00:01\n",
            "   ---------------------------------------- 11.1/11.1 MB 1.8 MB/s eta 0:00:00\n",
            "Downloading scipy-1.15.0-cp313-cp313-win_amd64.whl (43.6 MB)\n",
            "   ---------------------------------------- 0.0/43.6 MB ? eta -:--:--\n",
            "    --------------------------------------- 0.8/43.6 MB 3.4 MB/s eta 0:00:13\n",
            "   - -------------------------------------- 1.6/43.6 MB 3.3 MB/s eta 0:00:13\n",
            "   - -------------------------------------- 2.1/43.6 MB 3.1 MB/s eta 0:00:14\n",
            "   -- ------------------------------------- 2.6/43.6 MB 3.0 MB/s eta 0:00:14\n",
            "   --- ------------------------------------ 3.4/43.6 MB 3.1 MB/s eta 0:00:13\n",
            "   ---- ----------------------------------- 4.5/43.6 MB 3.3 MB/s eta 0:00:12\n",
            "   ---- ----------------------------------- 5.0/43.6 MB 3.3 MB/s eta 0:00:12\n",
            "   ----- ---------------------------------- 5.5/43.6 MB 3.2 MB/s eta 0:00:12\n",
            "   ----- ---------------------------------- 5.8/43.6 MB 3.1 MB/s eta 0:00:13\n",
            "   ----- ---------------------------------- 6.3/43.6 MB 2.9 MB/s eta 0:00:13\n",
            "   ------ --------------------------------- 6.8/43.6 MB 2.8 MB/s eta 0:00:14\n",
            "   ------ --------------------------------- 7.1/43.6 MB 2.8 MB/s eta 0:00:13\n",
            "   ------ --------------------------------- 7.1/43.6 MB 2.8 MB/s eta 0:00:13\n",
            "   ------ --------------------------------- 7.1/43.6 MB 2.8 MB/s eta 0:00:13\n",
            "   ------ --------------------------------- 7.1/43.6 MB 2.8 MB/s eta 0:00:13\n",
            "   ------ --------------------------------- 7.6/43.6 MB 2.2 MB/s eta 0:00:17\n",
            "   ------ --------------------------------- 7.6/43.6 MB 2.2 MB/s eta 0:00:17\n",
            "   ------ --------------------------------- 7.6/43.6 MB 2.2 MB/s eta 0:00:17\n",
            "   -------- ------------------------------- 9.4/43.6 MB 2.3 MB/s eta 0:00:15\n",
            "   -------- ------------------------------- 9.7/43.6 MB 2.2 MB/s eta 0:00:16\n",
            "   --------- ------------------------------ 10.2/43.6 MB 2.4 MB/s eta 0:00:15\n",
            "   ---------- ----------------------------- 11.5/43.6 MB 2.4 MB/s eta 0:00:14\n",
            "   ----------- ---------------------------- 12.3/43.6 MB 2.5 MB/s eta 0:00:13\n",
            "   ------------ --------------------------- 13.1/43.6 MB 2.5 MB/s eta 0:00:13\n",
            "   ------------ --------------------------- 13.9/43.6 MB 2.6 MB/s eta 0:00:12\n",
            "   ------------- -------------------------- 14.7/43.6 MB 2.6 MB/s eta 0:00:11\n",
            "   ------------- -------------------------- 15.2/43.6 MB 2.7 MB/s eta 0:00:11\n",
            "   -------------- ------------------------- 15.5/43.6 MB 2.6 MB/s eta 0:00:11\n",
            "   -------------- ------------------------- 16.0/43.6 MB 2.6 MB/s eta 0:00:11\n",
            "   -------------- ------------------------- 16.3/43.6 MB 2.6 MB/s eta 0:00:11\n",
            "   -------------- ------------------------- 16.3/43.6 MB 2.6 MB/s eta 0:00:11\n",
            "   -------------- ------------------------- 16.3/43.6 MB 2.6 MB/s eta 0:00:11\n",
            "   -------------- ------------------------- 16.3/43.6 MB 2.6 MB/s eta 0:00:11\n",
            "   --------------- ------------------------ 16.5/43.6 MB 2.3 MB/s eta 0:00:12\n",
            "   --------------- ------------------------ 16.8/43.6 MB 2.3 MB/s eta 0:00:12\n",
            "   ---------------- ----------------------- 17.6/43.6 MB 2.3 MB/s eta 0:00:12\n",
            "   ----------------- ---------------------- 18.9/43.6 MB 2.4 MB/s eta 0:00:11\n",
            "   ------------------ --------------------- 19.7/43.6 MB 2.4 MB/s eta 0:00:10\n",
            "   ------------------ --------------------- 20.4/43.6 MB 2.5 MB/s eta 0:00:10\n",
            "   ------------------- -------------------- 21.2/43.6 MB 2.5 MB/s eta 0:00:10\n",
            "   ------------------- -------------------- 21.5/43.6 MB 2.5 MB/s eta 0:00:09\n",
            "   -------------------- ------------------- 22.0/43.6 MB 2.5 MB/s eta 0:00:09\n",
            "   -------------------- ------------------- 22.5/43.6 MB 2.5 MB/s eta 0:00:09\n",
            "   -------------------- ------------------- 22.8/43.6 MB 2.5 MB/s eta 0:00:09\n",
            "   -------------------- ------------------- 22.8/43.6 MB 2.5 MB/s eta 0:00:09\n",
            "   -------------------- ------------------- 22.8/43.6 MB 2.5 MB/s eta 0:00:09\n",
            "   -------------------- ------------------- 22.8/43.6 MB 2.5 MB/s eta 0:00:09\n",
            "   --------------------- ------------------ 23.3/43.6 MB 2.3 MB/s eta 0:00:09\n",
            "   --------------------- ------------------ 23.9/43.6 MB 2.3 MB/s eta 0:00:09\n",
            "   ---------------------- ----------------- 24.4/43.6 MB 2.3 MB/s eta 0:00:09\n",
            "   ---------------------- ----------------- 24.9/43.6 MB 2.3 MB/s eta 0:00:09\n",
            "   ----------------------- ---------------- 26.0/43.6 MB 2.3 MB/s eta 0:00:08\n",
            "   ------------------------ --------------- 27.0/43.6 MB 2.4 MB/s eta 0:00:07\n",
            "   ------------------------- -------------- 27.5/43.6 MB 2.4 MB/s eta 0:00:07\n",
            "   ------------------------- -------------- 28.0/43.6 MB 2.4 MB/s eta 0:00:07\n",
            "   ------------------------- -------------- 28.0/43.6 MB 2.4 MB/s eta 0:00:07\n",
            "   ------------------------- -------------- 28.0/43.6 MB 2.4 MB/s eta 0:00:07\n",
            "   ------------------------- -------------- 28.0/43.6 MB 2.4 MB/s eta 0:00:07\n",
            "   ------------------------- -------------- 28.0/43.6 MB 2.4 MB/s eta 0:00:07\n",
            "   -------------------------- ------------- 28.8/43.6 MB 2.3 MB/s eta 0:00:07\n",
            "   -------------------------- ------------- 29.4/43.6 MB 2.3 MB/s eta 0:00:07\n",
            "   --------------------------- ------------ 29.9/43.6 MB 2.3 MB/s eta 0:00:07\n",
            "   --------------------------- ------------ 30.4/43.6 MB 2.3 MB/s eta 0:00:06\n",
            "   ---------------------------- ----------- 31.5/43.6 MB 2.3 MB/s eta 0:00:06\n",
            "   ----------------------------- ---------- 31.7/43.6 MB 2.3 MB/s eta 0:00:06\n",
            "   ----------------------------- ---------- 32.2/43.6 MB 2.3 MB/s eta 0:00:05\n",
            "   ------------------------------ --------- 32.8/43.6 MB 2.3 MB/s eta 0:00:05\n",
            "   ------------------------------ --------- 33.3/43.6 MB 2.3 MB/s eta 0:00:05\n",
            "   ------------------------------ --------- 33.8/43.6 MB 2.3 MB/s eta 0:00:05\n",
            "   ------------------------------- -------- 34.1/43.6 MB 2.3 MB/s eta 0:00:05\n",
            "   ------------------------------- -------- 34.6/43.6 MB 2.3 MB/s eta 0:00:04\n",
            "   ------------------------------- -------- 34.9/43.6 MB 2.3 MB/s eta 0:00:04\n",
            "   -------------------------------- ------- 35.4/43.6 MB 2.3 MB/s eta 0:00:04\n",
            "   -------------------------------- ------- 35.9/43.6 MB 2.3 MB/s eta 0:00:04\n",
            "   -------------------------------- ------- 35.9/43.6 MB 2.3 MB/s eta 0:00:04\n",
            "   -------------------------------- ------- 35.9/43.6 MB 2.3 MB/s eta 0:00:04\n",
            "   --------------------------------- ------ 36.2/43.6 MB 2.2 MB/s eta 0:00:04\n",
            "   --------------------------------- ------ 36.2/43.6 MB 2.2 MB/s eta 0:00:04\n",
            "   --------------------------------- ------ 36.2/43.6 MB 2.2 MB/s eta 0:00:04\n",
            "   --------------------------------- ------ 36.2/43.6 MB 2.2 MB/s eta 0:00:04\n",
            "   --------------------------------- ------ 36.4/43.6 MB 2.1 MB/s eta 0:00:04\n",
            "   --------------------------------- ------ 37.0/43.6 MB 2.1 MB/s eta 0:00:04\n",
            "   ----------------------------------- ---- 38.5/43.6 MB 2.2 MB/s eta 0:00:03\n",
            "   ----------------------------------- ---- 39.1/43.6 MB 2.2 MB/s eta 0:00:03\n",
            "   ------------------------------------ --- 39.6/43.6 MB 2.2 MB/s eta 0:00:02\n",
            "   ------------------------------------ --- 39.8/43.6 MB 2.2 MB/s eta 0:00:02\n",
            "   ------------------------------------- -- 40.4/43.6 MB 2.2 MB/s eta 0:00:02\n",
            "   ------------------------------------- -- 40.6/43.6 MB 2.2 MB/s eta 0:00:02\n",
            "   ------------------------------------- -- 41.4/43.6 MB 2.2 MB/s eta 0:00:02\n",
            "   -------------------------------------- - 41.9/43.6 MB 2.2 MB/s eta 0:00:01\n",
            "   -------------------------------------- - 42.2/43.6 MB 2.2 MB/s eta 0:00:01\n",
            "   ---------------------------------------  42.7/43.6 MB 2.2 MB/s eta 0:00:01\n",
            "   ---------------------------------------  43.3/43.6 MB 2.2 MB/s eta 0:00:01\n",
            "   ---------------------------------------- 43.6/43.6 MB 2.2 MB/s eta 0:00:00\n",
            "Using cached threadpoolctl-3.5.0-py3-none-any.whl (18 kB)\n",
            "Installing collected packages: threadpoolctl, scipy, scikit-learn\n",
            "Successfully installed scikit-learn-1.6.0 scipy-1.15.0 threadpoolctl-3.5.0\n"
          ]
        },
        {
          "name": "stderr",
          "output_type": "stream",
          "text": [
            "[nltk_data] Downloading package stopwords to\n",
            "[nltk_data]     C:\\Users\\Komal\\AppData\\Roaming\\nltk_data...\n",
            "[nltk_data]   Package stopwords is already up-to-date!\n"
          ]
        }
      ],
      "source": [
        "! pip install scikit-learn\n",
        "import numpy as np\n",
        "import pandas as pd\n",
        "import matplotlib.pyplot as plt\n",
        "import seaborn as sns\n",
        "import nltk\n",
        "import re\n",
        "from nltk.corpus import stopwords\n",
        "nltk.download(\"stopwords\")\n",
        "from sklearn.model_selection import train_test_split\n",
        "from sklearn.feature_extraction.text import CountVectorizer\n",
        "from sklearn.feature_extraction.text import TfidfVectorizer\n",
        "import string\n",
        "from sklearn.metrics import accuracy_score"
      ]
    },
    {
      "cell_type": "code",
      "execution_count": 5,
      "metadata": {
        "id": "JtU8UlEZwAx4"
      },
      "outputs": [],
      "source": [
        "df = pd.read_csv(\"IMDB Dataset.csv\")"
      ]
    },
    {
      "cell_type": "code",
      "execution_count": 16,
      "metadata": {
        "colab": {
          "base_uri": "https://localhost:8080/",
          "height": 423
        },
        "id": "4vPOREXfwihU",
        "outputId": "6224955b-b9ff-4d78-8266-42d0142a7a39"
      },
      "outputs": [
        {
          "data": {
            "application/vnd.google.colaboratory.intrinsic+json": {
              "summary": "{\n  \"name\": \"df\",\n  \"rows\": 50000,\n  \"fields\": [\n    {\n      \"column\": \"review\",\n      \"properties\": {\n        \"dtype\": \"string\",\n        \"num_unique_values\": 49582,\n        \"samples\": [\n          \"\\\"Soul Plane\\\" is a horrible attempt at comedy that only should appeal people with thick skulls, bloodshot eyes and furry pawns. <br /><br />The plot is not only incoherent but also non-existent, acting is mostly sub sub-par with a gang of highly moronic and dreadful characters thrown in for bad measure, jokes are often spotted miles ahead and almost never even a bit amusing. This movie lacks any structure and is full of racial stereotypes that must have seemed old even in the fifties, the only thing it really has going for it is some pretty ladies, but really, if you want that you can rent something from the \\\"Adult\\\" section. OK?<br /><br />I can hardly see anything here to recommend since you'll probably have a lot a better and productive time chasing rats with a sledgehammer or inventing waterproof teabags or whatever.<br /><br />2/10\",\n          \"Guest from the Future tells a fascinating story of time travel, friendship, battle of good and evil -- all with a small budget, child actors, and few special effects. Something for Spielberg and Lucas to learn from. ;) A sixth-grader Kolya \\\"Nick\\\" Gerasimov finds a time machine in the basement of a decrepit building and travels 100 years into the future. He discovers a near-perfect, utopian society where robots play guitars and write poetry, everyone is kind to each other and people enjoy everything technology has to offer. Alice is the daughter of a prominent scientist who invented a device called Mielophone that allows to read minds of humans and animals. The device can be put to both good and bad use, depending on whose hands it falls into. When two evil space pirates from Saturn who want to rule the universe attempt to steal Mielophone, it falls into the hands of 20th century school boy Nick. With the pirates hot on his tracks, he travels back to his time, followed by the pirates, and Alice. Chaos, confusion and funny situations follow as the luckless pirates try to blend in with the earthlings. Alice enrolls in the same school Nick goes to and demonstrates superhuman abilities in PE class. The catch is, Alice doesn't know what Nick looks like, while the pirates do. Also, the pirates are able to change their appearance and turn literally into anyone. (Hmm, I wonder if this is where James Cameron got the idea for Terminator...) Who gets to Nick -- and Mielophone -- first? Excellent plot, non-stop adventures, and great soundtrack. I wish Hollywood made kid movies like this one...\",\n          \"\\\"National Treasure\\\" (2004) is a thoroughly misguided hodge-podge of plot entanglements that borrow from nearly every cloak and dagger government conspiracy clich\\u00e9 that has ever been written. The film stars Nicholas Cage as Benjamin Franklin Gates (how precious is that, I ask you?); a seemingly normal fellow who, for no other reason than being of a lineage of like-minded misguided fortune hunters, decides to steal a 'national treasure' that has been hidden by the United States founding fathers. After a bit of subtext and background that plays laughably (unintentionally) like Indiana Jones meets The Patriot, the film degenerates into one misguided whimsy after another \\u0096 attempting to create a 'Stanley Goodspeed' regurgitation of Nicholas Cage and launch the whole convoluted mess forward with a series of high octane, but disconnected misadventures.<br /><br />The relevancy and logic to having George Washington and his motley crew of patriots burying a king's ransom someplace on native soil, and then, going through the meticulous plan of leaving clues scattered throughout U.S. currency art work, is something that director Jon Turteltaub never quite gets around to explaining. Couldn't Washington found better usage for such wealth during the start up of the country? Hence, we are left with a mystery built on top of an enigma that is already on shaky ground by the time Ben appoints himself the new custodian of this untold wealth. Ben's intentions are noble \\u0096 if confusing. He's set on protecting the treasure. For who and when?\\u0085your guess is as good as mine.<br /><br />But there are a few problems with Ben's crusade. First up, his friend, Ian Holmes (Sean Bean) decides that he can't wait for Ben to make up his mind about stealing the Declaration of Independence from the National Archives (oh, yeah \\u0096 brilliant idea!). Presumably, the back of that famous document holds the secret answer to the ultimate fortune. So Ian tries to kill Ben. The assassination attempt is, of course, unsuccessful, if overly melodramatic. It also affords Ben the opportunity to pick up, and pick on, the very sultry curator of the archives, Abigail Chase (Diane Kruger). She thinks Ben is clearly a nut \\u0096 at least at the beginning. But true to action/romance form, Abby's resolve melts quicker than you can say, \\\"is that the Hope Diamond?\\\" The film moves into full X-File-ish mode, as the FBI, mistakenly believing that Ben is behind the theft, retaliate in various benign ways that lead to a multi-layering of action sequences reminiscent of Mission Impossible meets The Fugitive. Honestly, don't those guys ever get 'intelligence' information that is correct? In the final analysis, \\\"National Treasure\\\" isn't great film making, so much as it's a patchwork rehash of tired old bits from other movies, woven together from scraps, the likes of which would make IL' Betsy Ross blush.<br /><br />The Buena Vista DVD delivers a far more generous treatment than this film is deserving of. The anamorphic widescreen picture exhibits a very smooth and finely detailed image with very rich colors, natural flesh tones, solid blacks and clean whites. The stylized image is also free of blemishes and digital enhancements. The audio is 5.1 and delivers a nice sonic boom to your side and rear speakers with intensity and realism. Extras include a host of promotional junket material that is rather deep and over the top in its explanation of how and why this film was made. If only, as an audience, we had had more clarification as to why Ben and co. were chasing after an illusive treasure, this might have been one good flick. Extras conclude with the theatrical trailer, audio commentary and deleted scenes. Not for the faint-hearted \\u0096 just the thick-headed.\"\n        ],\n        \"semantic_type\": \"\",\n        \"description\": \"\"\n      }\n    },\n    {\n      \"column\": \"sentiment\",\n      \"properties\": {\n        \"dtype\": \"category\",\n        \"num_unique_values\": 2,\n        \"samples\": [\n          \"negative\",\n          \"positive\"\n        ],\n        \"semantic_type\": \"\",\n        \"description\": \"\"\n      }\n    }\n  ]\n}",
              "type": "dataframe",
              "variable_name": "df"
            },
            "text/html": [
              "\n",
              "  <div id=\"df-b3ac6a58-ab9f-48a0-8af8-6271e9768fc8\" class=\"colab-df-container\">\n",
              "    <div>\n",
              "<style scoped>\n",
              "    .dataframe tbody tr th:only-of-type {\n",
              "        vertical-align: middle;\n",
              "    }\n",
              "\n",
              "    .dataframe tbody tr th {\n",
              "        vertical-align: top;\n",
              "    }\n",
              "\n",
              "    .dataframe thead th {\n",
              "        text-align: right;\n",
              "    }\n",
              "</style>\n",
              "<table border=\"1\" class=\"dataframe\">\n",
              "  <thead>\n",
              "    <tr style=\"text-align: right;\">\n",
              "      <th></th>\n",
              "      <th>review</th>\n",
              "      <th>sentiment</th>\n",
              "    </tr>\n",
              "  </thead>\n",
              "  <tbody>\n",
              "    <tr>\n",
              "      <th>0</th>\n",
              "      <td>One of the other reviewers has mentioned that ...</td>\n",
              "      <td>positive</td>\n",
              "    </tr>\n",
              "    <tr>\n",
              "      <th>1</th>\n",
              "      <td>A wonderful little production. &lt;br /&gt;&lt;br /&gt;The...</td>\n",
              "      <td>positive</td>\n",
              "    </tr>\n",
              "    <tr>\n",
              "      <th>2</th>\n",
              "      <td>I thought this was a wonderful way to spend ti...</td>\n",
              "      <td>positive</td>\n",
              "    </tr>\n",
              "    <tr>\n",
              "      <th>3</th>\n",
              "      <td>Basically there's a family where a little boy ...</td>\n",
              "      <td>negative</td>\n",
              "    </tr>\n",
              "    <tr>\n",
              "      <th>4</th>\n",
              "      <td>Petter Mattei's \"Love in the Time of Money\" is...</td>\n",
              "      <td>positive</td>\n",
              "    </tr>\n",
              "    <tr>\n",
              "      <th>...</th>\n",
              "      <td>...</td>\n",
              "      <td>...</td>\n",
              "    </tr>\n",
              "    <tr>\n",
              "      <th>49995</th>\n",
              "      <td>I thought this movie did a down right good job...</td>\n",
              "      <td>positive</td>\n",
              "    </tr>\n",
              "    <tr>\n",
              "      <th>49996</th>\n",
              "      <td>Bad plot, bad dialogue, bad acting, idiotic di...</td>\n",
              "      <td>negative</td>\n",
              "    </tr>\n",
              "    <tr>\n",
              "      <th>49997</th>\n",
              "      <td>I am a Catholic taught in parochial elementary...</td>\n",
              "      <td>negative</td>\n",
              "    </tr>\n",
              "    <tr>\n",
              "      <th>49998</th>\n",
              "      <td>I'm going to have to disagree with the previou...</td>\n",
              "      <td>negative</td>\n",
              "    </tr>\n",
              "    <tr>\n",
              "      <th>49999</th>\n",
              "      <td>No one expects the Star Trek movies to be high...</td>\n",
              "      <td>negative</td>\n",
              "    </tr>\n",
              "  </tbody>\n",
              "</table>\n",
              "<p>50000 rows × 2 columns</p>\n",
              "</div>\n",
              "    <div class=\"colab-df-buttons\">\n",
              "\n",
              "  <div class=\"colab-df-container\">\n",
              "    <button class=\"colab-df-convert\" onclick=\"convertToInteractive('df-b3ac6a58-ab9f-48a0-8af8-6271e9768fc8')\"\n",
              "            title=\"Convert this dataframe to an interactive table.\"\n",
              "            style=\"display:none;\">\n",
              "\n",
              "  <svg xmlns=\"http://www.w3.org/2000/svg\" height=\"24px\" viewBox=\"0 -960 960 960\">\n",
              "    <path d=\"M120-120v-720h720v720H120Zm60-500h600v-160H180v160Zm220 220h160v-160H400v160Zm0 220h160v-160H400v160ZM180-400h160v-160H180v160Zm440 0h160v-160H620v160ZM180-180h160v-160H180v160Zm440 0h160v-160H620v160Z\"/>\n",
              "  </svg>\n",
              "    </button>\n",
              "\n",
              "  <style>\n",
              "    .colab-df-container {\n",
              "      display:flex;\n",
              "      gap: 12px;\n",
              "    }\n",
              "\n",
              "    .colab-df-convert {\n",
              "      background-color: #E8F0FE;\n",
              "      border: none;\n",
              "      border-radius: 50%;\n",
              "      cursor: pointer;\n",
              "      display: none;\n",
              "      fill: #1967D2;\n",
              "      height: 32px;\n",
              "      padding: 0 0 0 0;\n",
              "      width: 32px;\n",
              "    }\n",
              "\n",
              "    .colab-df-convert:hover {\n",
              "      background-color: #E2EBFA;\n",
              "      box-shadow: 0px 1px 2px rgba(60, 64, 67, 0.3), 0px 1px 3px 1px rgba(60, 64, 67, 0.15);\n",
              "      fill: #174EA6;\n",
              "    }\n",
              "\n",
              "    .colab-df-buttons div {\n",
              "      margin-bottom: 4px;\n",
              "    }\n",
              "\n",
              "    [theme=dark] .colab-df-convert {\n",
              "      background-color: #3B4455;\n",
              "      fill: #D2E3FC;\n",
              "    }\n",
              "\n",
              "    [theme=dark] .colab-df-convert:hover {\n",
              "      background-color: #434B5C;\n",
              "      box-shadow: 0px 1px 3px 1px rgba(0, 0, 0, 0.15);\n",
              "      filter: drop-shadow(0px 1px 2px rgba(0, 0, 0, 0.3));\n",
              "      fill: #FFFFFF;\n",
              "    }\n",
              "  </style>\n",
              "\n",
              "    <script>\n",
              "      const buttonEl =\n",
              "        document.querySelector('#df-b3ac6a58-ab9f-48a0-8af8-6271e9768fc8 button.colab-df-convert');\n",
              "      buttonEl.style.display =\n",
              "        google.colab.kernel.accessAllowed ? 'block' : 'none';\n",
              "\n",
              "      async function convertToInteractive(key) {\n",
              "        const element = document.querySelector('#df-b3ac6a58-ab9f-48a0-8af8-6271e9768fc8');\n",
              "        const dataTable =\n",
              "          await google.colab.kernel.invokeFunction('convertToInteractive',\n",
              "                                                    [key], {});\n",
              "        if (!dataTable) return;\n",
              "\n",
              "        const docLinkHtml = 'Like what you see? Visit the ' +\n",
              "          '<a target=\"_blank\" href=https://colab.research.google.com/notebooks/data_table.ipynb>data table notebook</a>'\n",
              "          + ' to learn more about interactive tables.';\n",
              "        element.innerHTML = '';\n",
              "        dataTable['output_type'] = 'display_data';\n",
              "        await google.colab.output.renderOutput(dataTable, element);\n",
              "        const docLink = document.createElement('div');\n",
              "        docLink.innerHTML = docLinkHtml;\n",
              "        element.appendChild(docLink);\n",
              "      }\n",
              "    </script>\n",
              "  </div>\n",
              "\n",
              "\n",
              "<div id=\"df-7e6c9376-a0c4-4b1e-99c5-cea571c66777\">\n",
              "  <button class=\"colab-df-quickchart\" onclick=\"quickchart('df-7e6c9376-a0c4-4b1e-99c5-cea571c66777')\"\n",
              "            title=\"Suggest charts\"\n",
              "            style=\"display:none;\">\n",
              "\n",
              "<svg xmlns=\"http://www.w3.org/2000/svg\" height=\"24px\"viewBox=\"0 0 24 24\"\n",
              "     width=\"24px\">\n",
              "    <g>\n",
              "        <path d=\"M19 3H5c-1.1 0-2 .9-2 2v14c0 1.1.9 2 2 2h14c1.1 0 2-.9 2-2V5c0-1.1-.9-2-2-2zM9 17H7v-7h2v7zm4 0h-2V7h2v10zm4 0h-2v-4h2v4z\"/>\n",
              "    </g>\n",
              "</svg>\n",
              "  </button>\n",
              "\n",
              "<style>\n",
              "  .colab-df-quickchart {\n",
              "      --bg-color: #E8F0FE;\n",
              "      --fill-color: #1967D2;\n",
              "      --hover-bg-color: #E2EBFA;\n",
              "      --hover-fill-color: #174EA6;\n",
              "      --disabled-fill-color: #AAA;\n",
              "      --disabled-bg-color: #DDD;\n",
              "  }\n",
              "\n",
              "  [theme=dark] .colab-df-quickchart {\n",
              "      --bg-color: #3B4455;\n",
              "      --fill-color: #D2E3FC;\n",
              "      --hover-bg-color: #434B5C;\n",
              "      --hover-fill-color: #FFFFFF;\n",
              "      --disabled-bg-color: #3B4455;\n",
              "      --disabled-fill-color: #666;\n",
              "  }\n",
              "\n",
              "  .colab-df-quickchart {\n",
              "    background-color: var(--bg-color);\n",
              "    border: none;\n",
              "    border-radius: 50%;\n",
              "    cursor: pointer;\n",
              "    display: none;\n",
              "    fill: var(--fill-color);\n",
              "    height: 32px;\n",
              "    padding: 0;\n",
              "    width: 32px;\n",
              "  }\n",
              "\n",
              "  .colab-df-quickchart:hover {\n",
              "    background-color: var(--hover-bg-color);\n",
              "    box-shadow: 0 1px 2px rgba(60, 64, 67, 0.3), 0 1px 3px 1px rgba(60, 64, 67, 0.15);\n",
              "    fill: var(--button-hover-fill-color);\n",
              "  }\n",
              "\n",
              "  .colab-df-quickchart-complete:disabled,\n",
              "  .colab-df-quickchart-complete:disabled:hover {\n",
              "    background-color: var(--disabled-bg-color);\n",
              "    fill: var(--disabled-fill-color);\n",
              "    box-shadow: none;\n",
              "  }\n",
              "\n",
              "  .colab-df-spinner {\n",
              "    border: 2px solid var(--fill-color);\n",
              "    border-color: transparent;\n",
              "    border-bottom-color: var(--fill-color);\n",
              "    animation:\n",
              "      spin 1s steps(1) infinite;\n",
              "  }\n",
              "\n",
              "  @keyframes spin {\n",
              "    0% {\n",
              "      border-color: transparent;\n",
              "      border-bottom-color: var(--fill-color);\n",
              "      border-left-color: var(--fill-color);\n",
              "    }\n",
              "    20% {\n",
              "      border-color: transparent;\n",
              "      border-left-color: var(--fill-color);\n",
              "      border-top-color: var(--fill-color);\n",
              "    }\n",
              "    30% {\n",
              "      border-color: transparent;\n",
              "      border-left-color: var(--fill-color);\n",
              "      border-top-color: var(--fill-color);\n",
              "      border-right-color: var(--fill-color);\n",
              "    }\n",
              "    40% {\n",
              "      border-color: transparent;\n",
              "      border-right-color: var(--fill-color);\n",
              "      border-top-color: var(--fill-color);\n",
              "    }\n",
              "    60% {\n",
              "      border-color: transparent;\n",
              "      border-right-color: var(--fill-color);\n",
              "    }\n",
              "    80% {\n",
              "      border-color: transparent;\n",
              "      border-right-color: var(--fill-color);\n",
              "      border-bottom-color: var(--fill-color);\n",
              "    }\n",
              "    90% {\n",
              "      border-color: transparent;\n",
              "      border-bottom-color: var(--fill-color);\n",
              "    }\n",
              "  }\n",
              "</style>\n",
              "\n",
              "  <script>\n",
              "    async function quickchart(key) {\n",
              "      const quickchartButtonEl =\n",
              "        document.querySelector('#' + key + ' button');\n",
              "      quickchartButtonEl.disabled = true;  // To prevent multiple clicks.\n",
              "      quickchartButtonEl.classList.add('colab-df-spinner');\n",
              "      try {\n",
              "        const charts = await google.colab.kernel.invokeFunction(\n",
              "            'suggestCharts', [key], {});\n",
              "      } catch (error) {\n",
              "        console.error('Error during call to suggestCharts:', error);\n",
              "      }\n",
              "      quickchartButtonEl.classList.remove('colab-df-spinner');\n",
              "      quickchartButtonEl.classList.add('colab-df-quickchart-complete');\n",
              "    }\n",
              "    (() => {\n",
              "      let quickchartButtonEl =\n",
              "        document.querySelector('#df-7e6c9376-a0c4-4b1e-99c5-cea571c66777 button');\n",
              "      quickchartButtonEl.style.display =\n",
              "        google.colab.kernel.accessAllowed ? 'block' : 'none';\n",
              "    })();\n",
              "  </script>\n",
              "</div>\n",
              "\n",
              "  <div id=\"id_f3648a0a-8f69-468d-affb-bf04d252caf7\">\n",
              "    <style>\n",
              "      .colab-df-generate {\n",
              "        background-color: #E8F0FE;\n",
              "        border: none;\n",
              "        border-radius: 50%;\n",
              "        cursor: pointer;\n",
              "        display: none;\n",
              "        fill: #1967D2;\n",
              "        height: 32px;\n",
              "        padding: 0 0 0 0;\n",
              "        width: 32px;\n",
              "      }\n",
              "\n",
              "      .colab-df-generate:hover {\n",
              "        background-color: #E2EBFA;\n",
              "        box-shadow: 0px 1px 2px rgba(60, 64, 67, 0.3), 0px 1px 3px 1px rgba(60, 64, 67, 0.15);\n",
              "        fill: #174EA6;\n",
              "      }\n",
              "\n",
              "      [theme=dark] .colab-df-generate {\n",
              "        background-color: #3B4455;\n",
              "        fill: #D2E3FC;\n",
              "      }\n",
              "\n",
              "      [theme=dark] .colab-df-generate:hover {\n",
              "        background-color: #434B5C;\n",
              "        box-shadow: 0px 1px 3px 1px rgba(0, 0, 0, 0.15);\n",
              "        filter: drop-shadow(0px 1px 2px rgba(0, 0, 0, 0.3));\n",
              "        fill: #FFFFFF;\n",
              "      }\n",
              "    </style>\n",
              "    <button class=\"colab-df-generate\" onclick=\"generateWithVariable('df')\"\n",
              "            title=\"Generate code using this dataframe.\"\n",
              "            style=\"display:none;\">\n",
              "\n",
              "  <svg xmlns=\"http://www.w3.org/2000/svg\" height=\"24px\"viewBox=\"0 0 24 24\"\n",
              "       width=\"24px\">\n",
              "    <path d=\"M7,19H8.4L18.45,9,17,7.55,7,17.6ZM5,21V16.75L18.45,3.32a2,2,0,0,1,2.83,0l1.4,1.43a1.91,1.91,0,0,1,.58,1.4,1.91,1.91,0,0,1-.58,1.4L9.25,21ZM18.45,9,17,7.55Zm-12,3A5.31,5.31,0,0,0,4.9,8.1,5.31,5.31,0,0,0,1,6.5,5.31,5.31,0,0,0,4.9,4.9,5.31,5.31,0,0,0,6.5,1,5.31,5.31,0,0,0,8.1,4.9,5.31,5.31,0,0,0,12,6.5,5.46,5.46,0,0,0,6.5,12Z\"/>\n",
              "  </svg>\n",
              "    </button>\n",
              "    <script>\n",
              "      (() => {\n",
              "      const buttonEl =\n",
              "        document.querySelector('#id_f3648a0a-8f69-468d-affb-bf04d252caf7 button.colab-df-generate');\n",
              "      buttonEl.style.display =\n",
              "        google.colab.kernel.accessAllowed ? 'block' : 'none';\n",
              "\n",
              "      buttonEl.onclick = () => {\n",
              "        google.colab.notebook.generateWithVariable('df');\n",
              "      }\n",
              "      })();\n",
              "    </script>\n",
              "  </div>\n",
              "\n",
              "    </div>\n",
              "  </div>\n"
            ],
            "text/plain": [
              "                                                  review sentiment\n",
              "0      One of the other reviewers has mentioned that ...  positive\n",
              "1      A wonderful little production. <br /><br />The...  positive\n",
              "2      I thought this was a wonderful way to spend ti...  positive\n",
              "3      Basically there's a family where a little boy ...  negative\n",
              "4      Petter Mattei's \"Love in the Time of Money\" is...  positive\n",
              "...                                                  ...       ...\n",
              "49995  I thought this movie did a down right good job...  positive\n",
              "49996  Bad plot, bad dialogue, bad acting, idiotic di...  negative\n",
              "49997  I am a Catholic taught in parochial elementary...  negative\n",
              "49998  I'm going to have to disagree with the previou...  negative\n",
              "49999  No one expects the Star Trek movies to be high...  negative\n",
              "\n",
              "[50000 rows x 2 columns]"
            ]
          },
          "execution_count": 16,
          "metadata": {},
          "output_type": "execute_result"
        }
      ],
      "source": [
        "df"
      ]
    },
    {
      "cell_type": "code",
      "execution_count": 6,
      "metadata": {
        "colab": {
          "base_uri": "https://localhost:8080/"
        },
        "id": "9H4jVlIHwjdO",
        "outputId": "8d241676-e5d5-4c92-f113-7ab309fe0063"
      },
      "outputs": [
        {
          "data": {
            "text/plain": [
              "(50000, 2)"
            ]
          },
          "execution_count": 6,
          "metadata": {},
          "output_type": "execute_result"
        }
      ],
      "source": [
        "df.shape"
      ]
    },
    {
      "cell_type": "code",
      "execution_count": 7,
      "metadata": {
        "colab": {
          "base_uri": "https://localhost:8080/",
          "height": 206
        },
        "id": "VHR63-ORw0N7",
        "outputId": "0030b3e3-3fe2-4dad-9273-70ad211ba09f"
      },
      "outputs": [
        {
          "data": {
            "text/html": [
              "<div>\n",
              "<style scoped>\n",
              "    .dataframe tbody tr th:only-of-type {\n",
              "        vertical-align: middle;\n",
              "    }\n",
              "\n",
              "    .dataframe tbody tr th {\n",
              "        vertical-align: top;\n",
              "    }\n",
              "\n",
              "    .dataframe thead th {\n",
              "        text-align: right;\n",
              "    }\n",
              "</style>\n",
              "<table border=\"1\" class=\"dataframe\">\n",
              "  <thead>\n",
              "    <tr style=\"text-align: right;\">\n",
              "      <th></th>\n",
              "      <th>review</th>\n",
              "      <th>sentiment</th>\n",
              "    </tr>\n",
              "  </thead>\n",
              "  <tbody>\n",
              "    <tr>\n",
              "      <th>0</th>\n",
              "      <td>One of the other reviewers has mentioned that ...</td>\n",
              "      <td>positive</td>\n",
              "    </tr>\n",
              "    <tr>\n",
              "      <th>1</th>\n",
              "      <td>A wonderful little production. &lt;br /&gt;&lt;br /&gt;The...</td>\n",
              "      <td>positive</td>\n",
              "    </tr>\n",
              "    <tr>\n",
              "      <th>2</th>\n",
              "      <td>I thought this was a wonderful way to spend ti...</td>\n",
              "      <td>positive</td>\n",
              "    </tr>\n",
              "    <tr>\n",
              "      <th>3</th>\n",
              "      <td>Basically there's a family where a little boy ...</td>\n",
              "      <td>negative</td>\n",
              "    </tr>\n",
              "    <tr>\n",
              "      <th>4</th>\n",
              "      <td>Petter Mattei's \"Love in the Time of Money\" is...</td>\n",
              "      <td>positive</td>\n",
              "    </tr>\n",
              "  </tbody>\n",
              "</table>\n",
              "</div>"
            ],
            "text/plain": [
              "                                              review sentiment\n",
              "0  One of the other reviewers has mentioned that ...  positive\n",
              "1  A wonderful little production. <br /><br />The...  positive\n",
              "2  I thought this was a wonderful way to spend ti...  positive\n",
              "3  Basically there's a family where a little boy ...  negative\n",
              "4  Petter Mattei's \"Love in the Time of Money\" is...  positive"
            ]
          },
          "execution_count": 7,
          "metadata": {},
          "output_type": "execute_result"
        }
      ],
      "source": [
        "df = df.iloc[:10000]\n",
        "df.head()"
      ]
    },
    {
      "cell_type": "code",
      "execution_count": 8,
      "metadata": {
        "colab": {
          "base_uri": "https://localhost:8080/",
          "height": 178
        },
        "id": "RzQtuIRlw46h",
        "outputId": "227f916c-5b1d-4059-dc1e-4b9e2c462341"
      },
      "outputs": [
        {
          "data": {
            "text/plain": [
              "sentiment\n",
              "positive    5028\n",
              "negative    4972\n",
              "Name: count, dtype: int64"
            ]
          },
          "execution_count": 8,
          "metadata": {},
          "output_type": "execute_result"
        }
      ],
      "source": [
        "df[\"sentiment\"].value_counts()"
      ]
    },
    {
      "cell_type": "code",
      "execution_count": 9,
      "metadata": {
        "colab": {
          "base_uri": "https://localhost:8080/",
          "height": 146
        },
        "id": "ce5PanH7xv82",
        "outputId": "56268aa1-0789-4927-9e43-26616376c5cf"
      },
      "outputs": [
        {
          "data": {
            "text/plain": [
              "review       0\n",
              "sentiment    0\n",
              "dtype: int64"
            ]
          },
          "execution_count": 9,
          "metadata": {},
          "output_type": "execute_result"
        }
      ],
      "source": [
        "df.isnull().sum()"
      ]
    },
    {
      "cell_type": "code",
      "execution_count": 10,
      "metadata": {
        "colab": {
          "base_uri": "https://localhost:8080/"
        },
        "id": "c4Jd3E78xy-_",
        "outputId": "0c874a80-5568-4996-96ec-1c42967f4c4c"
      },
      "outputs": [
        {
          "data": {
            "text/plain": [
              "np.int64(17)"
            ]
          },
          "execution_count": 10,
          "metadata": {},
          "output_type": "execute_result"
        }
      ],
      "source": [
        "df.duplicated().sum()"
      ]
    },
    {
      "cell_type": "code",
      "execution_count": 11,
      "metadata": {
        "colab": {
          "base_uri": "https://localhost:8080/"
        },
        "id": "VxVUUTWSx3aD",
        "outputId": "561a1c42-4c61-4954-e0ae-55596228102f"
      },
      "outputs": [],
      "source": [
        "df.drop_duplicates(inplace=True)"
      ]
    },
    {
      "cell_type": "code",
      "execution_count": 12,
      "metadata": {
        "colab": {
          "base_uri": "https://localhost:8080/"
        },
        "id": "PFr7C-snx79w",
        "outputId": "5218b435-def0-4f96-b3af-37895685634f"
      },
      "outputs": [
        {
          "data": {
            "text/plain": [
              "np.int64(0)"
            ]
          },
          "execution_count": 12,
          "metadata": {},
          "output_type": "execute_result"
        }
      ],
      "source": [
        "df.duplicated().sum()"
      ]
    },
    {
      "cell_type": "code",
      "execution_count": 13,
      "metadata": {
        "id": "haAERgg-yAl4"
      },
      "outputs": [],
      "source": [
        "def remove_html_tags(text):\n",
        "    clean_text = re.sub(r'<[^>]*>', '', text)\n",
        "    return clean_text\n"
      ]
    },
    {
      "cell_type": "code",
      "execution_count": 14,
      "metadata": {
        "colab": {
          "base_uri": "https://localhost:8080/"
        },
        "id": "SD300_VUzc5c",
        "outputId": "9f81052b-6bec-4562-ec84-7fb5b1d7734c"
      },
      "outputs": [],
      "source": [
        "df[\"review\"]=df[\"review\"].apply(remove_html_tags)"
      ]
    },
    {
      "cell_type": "code",
      "execution_count": 15,
      "metadata": {
        "colab": {
          "base_uri": "https://localhost:8080/",
          "height": 191
        },
        "id": "NXB8lkBwzucZ",
        "outputId": "d45712e0-be93-41ee-9d58-709657159c34"
      },
      "outputs": [
        {
          "data": {
            "text/plain": [
              "\"One of the other reviewers has mentioned that after watching just 1 Oz episode you'll be hooked. They are right, as this is exactly what happened with me.The first thing that struck me about Oz was its brutality and unflinching scenes of violence, which set in right from the word GO. Trust me, this is not a show for the faint hearted or timid. This show pulls no punches with regards to drugs, sex or violence. Its is hardcore, in the classic use of the word.It is called OZ as that is the nickname given to the Oswald Maximum Security State Penitentary. It focuses mainly on Emerald City, an experimental section of the prison where all the cells have glass fronts and face inwards, so privacy is not high on the agenda. Em City is home to many..Aryans, Muslims, gangstas, Latinos, Christians, Italians, Irish and more....so scuffles, death stares, dodgy dealings and shady agreements are never far away.I would say the main appeal of the show is due to the fact that it goes where other shows wouldn't dare. Forget pretty pictures painted for mainstream audiences, forget charm, forget romance...OZ doesn't mess around. The first episode I ever saw struck me as so nasty it was surreal, I couldn't say I was ready for it, but as I watched more, I developed a taste for Oz, and got accustomed to the high levels of graphic violence. Not just violence, but injustice (crooked guards who'll be sold out for a nickel, inmates who'll kill on order and get away with it, well mannered, middle class inmates being turned into prison bitches due to their lack of street skills or prison experience) Watching Oz, you may become comfortable with what is uncomfortable viewing....thats if you can get in touch with your darker side.\""
            ]
          },
          "execution_count": 15,
          "metadata": {},
          "output_type": "execute_result"
        }
      ],
      "source": [
        "df[\"review\"][0]"
      ]
    },
    {
      "cell_type": "code",
      "execution_count": 16,
      "metadata": {
        "colab": {
          "base_uri": "https://localhost:8080/"
        },
        "id": "Xe5q87eTzxRB",
        "outputId": "32a4b91d-cad2-41bd-f488-366671282dd9"
      },
      "outputs": [],
      "source": [
        "df[\"review\"] = df[\"review\"].apply(lambda x: x.lower())"
      ]
    },
    {
      "cell_type": "code",
      "execution_count": 17,
      "metadata": {
        "colab": {
          "base_uri": "https://localhost:8080/",
          "height": 191
        },
        "id": "Ia8JsXRn0Esy",
        "outputId": "36f508ea-66e3-445a-9191-0dbcf339c3f9"
      },
      "outputs": [
        {
          "data": {
            "text/plain": [
              "\"one of the other reviewers has mentioned that after watching just 1 oz episode you'll be hooked. they are right, as this is exactly what happened with me.the first thing that struck me about oz was its brutality and unflinching scenes of violence, which set in right from the word go. trust me, this is not a show for the faint hearted or timid. this show pulls no punches with regards to drugs, sex or violence. its is hardcore, in the classic use of the word.it is called oz as that is the nickname given to the oswald maximum security state penitentary. it focuses mainly on emerald city, an experimental section of the prison where all the cells have glass fronts and face inwards, so privacy is not high on the agenda. em city is home to many..aryans, muslims, gangstas, latinos, christians, italians, irish and more....so scuffles, death stares, dodgy dealings and shady agreements are never far away.i would say the main appeal of the show is due to the fact that it goes where other shows wouldn't dare. forget pretty pictures painted for mainstream audiences, forget charm, forget romance...oz doesn't mess around. the first episode i ever saw struck me as so nasty it was surreal, i couldn't say i was ready for it, but as i watched more, i developed a taste for oz, and got accustomed to the high levels of graphic violence. not just violence, but injustice (crooked guards who'll be sold out for a nickel, inmates who'll kill on order and get away with it, well mannered, middle class inmates being turned into prison bitches due to their lack of street skills or prison experience) watching oz, you may become comfortable with what is uncomfortable viewing....thats if you can get in touch with your darker side.\""
            ]
          },
          "execution_count": 17,
          "metadata": {},
          "output_type": "execute_result"
        }
      ],
      "source": [
        "df[\"review\"][0]"
      ]
    },
    {
      "cell_type": "code",
      "execution_count": 18,
      "metadata": {
        "colab": {
          "base_uri": "https://localhost:8080/"
        },
        "id": "4wKXwvvX0HGr",
        "outputId": "0a527cdc-cb4e-4067-b42c-e9c81c9d0af0"
      },
      "outputs": [
        {
          "name": "stderr",
          "output_type": "stream",
          "text": [
            "[nltk_data] Downloading package punkt to\n",
            "[nltk_data]     C:\\Users\\Komal\\AppData\\Roaming\\nltk_data...\n",
            "[nltk_data]   Package punkt is already up-to-date!\n",
            "[nltk_data] Downloading package stopwords to\n",
            "[nltk_data]     C:\\Users\\Komal\\AppData\\Roaming\\nltk_data...\n",
            "[nltk_data]   Package stopwords is already up-to-date!\n",
            "[nltk_data] Downloading package punkt_tab to\n",
            "[nltk_data]     C:\\Users\\Komal\\AppData\\Roaming\\nltk_data...\n",
            "[nltk_data]   Package punkt_tab is already up-to-date!\n"
          ]
        }
      ],
      "source": [
        "stop_words = stopwords.words(\"english\")\n",
        "from nltk.corpus import stopwords\n",
        "from nltk.tokenize import word_tokenize\n",
        "nltk.download(\"punkt\")\n",
        "nltk.download(\"stopwords\")\n",
        "nltk.download(\"punkt_tab\")\n",
        "\n",
        "\n",
        "# Define stopwords\n",
        "stop_words = (stopwords.words('english'))\n",
        "\n",
        "# Function to remove stopwords\n",
        "def remove_stopwords(sentence):\n",
        "    words = word_tokenize(sentence)\n",
        "    return ' '.join([word for word in words if word.lower() not in stop_words])\n",
        "\n",
        "\n",
        "\n"
      ]
    },
    {
      "cell_type": "code",
      "execution_count": 19,
      "metadata": {
        "colab": {
          "base_uri": "https://localhost:8080/"
        },
        "id": "KaH-nHjy30zq",
        "outputId": "583d2e4b-621f-428e-c01b-636ace2bc02d"
      },
      "outputs": [],
      "source": [
        "df[\"review\"] = df[\"review\"].apply(remove_stopwords)"
      ]
    },
    {
      "cell_type": "code",
      "execution_count": 20,
      "metadata": {
        "colab": {
          "base_uri": "https://localhost:8080/",
          "height": 139
        },
        "id": "B1fuLH5R5oVl",
        "outputId": "c04173ce-65d3-4912-a4c9-99fd720e242d"
      },
      "outputs": [
        {
          "data": {
            "text/plain": [
              "\"wonderful little production . filming technique unassuming- old-time-bbc fashion gives comforting , sometimes discomforting , sense realism entire piece . actors extremely well chosen- michael sheen `` got polari '' voices pat ! truly see seamless editing guided references williams ' diary entries , well worth watching terrificly written performed piece . masterful production one great master 's comedy life . realism really comes home little things : fantasy guard , rather use traditional 'dream ' techniques remains solid disappears . plays knowledge senses , particularly scenes concerning orton halliwell sets ( particularly flat halliwell 's murals decorating every surface ) terribly well done .\""
            ]
          },
          "execution_count": 20,
          "metadata": {},
          "output_type": "execute_result"
        }
      ],
      "source": [
        "df[\"review\"][1]"
      ]
    },
    {
      "cell_type": "code",
      "execution_count": 21,
      "metadata": {
        "id": "fddu7i1v6Ahw"
      },
      "outputs": [],
      "source": [
        "x = df.iloc[:,0:1]\n",
        "y = df[\"sentiment\"]"
      ]
    },
    {
      "cell_type": "code",
      "execution_count": 22,
      "metadata": {
        "id": "Ny17MYG37soG"
      },
      "outputs": [],
      "source": [
        "from sklearn.preprocessing import LabelEncoder\n",
        "lb = LabelEncoder()\n",
        "y = lb.fit_transform(y)"
      ]
    },
    {
      "cell_type": "code",
      "execution_count": 23,
      "metadata": {
        "colab": {
          "base_uri": "https://localhost:8080/"
        },
        "id": "z4UiSwOi9afj",
        "outputId": "ea099ba6-044c-4400-954b-c7cc0fad2f88"
      },
      "outputs": [
        {
          "data": {
            "text/plain": [
              "array([1, 1, 1, ..., 0, 0, 1], shape=(9983,))"
            ]
          },
          "execution_count": 23,
          "metadata": {},
          "output_type": "execute_result"
        }
      ],
      "source": [
        "y"
      ]
    },
    {
      "cell_type": "code",
      "execution_count": 26,
      "metadata": {
        "id": "ZYc6sihh9ubK"
      },
      "outputs": [],
      "source": [
        "X_train,X_test,y_train,y_test = train_test_split(x,y,train_size=0.8,random_state=1)"
      ]
    },
    {
      "cell_type": "code",
      "execution_count": 27,
      "metadata": {
        "id": "oVdt_xOz-TtZ"
      },
      "outputs": [],
      "source": [
        "cv = CountVectorizer()\n",
        "X_train_BOW = cv.fit_transform(X_train[\"review\"]).toarray()\n",
        "X_test_BOW = cv.transform(X_test[\"review\"]).toarray()"
      ]
    },
    {
      "cell_type": "code",
      "execution_count": 28,
      "metadata": {},
      "outputs": [
        {
          "data": {
            "text/plain": [
              "0.6329494241362043"
            ]
          },
          "execution_count": 28,
          "metadata": {},
          "output_type": "execute_result"
        }
      ],
      "source": [
        "from sklearn.naive_bayes import GaussianNB\n",
        "gnb = GaussianNB()\n",
        "gnb.fit(X_train_BOW,y_train)\n",
        "pred = gnb.predict(X_test_BOW)\n",
        "accuracy_score(y_test,pred)"
      ]
    },
    {
      "cell_type": "code",
      "execution_count": 30,
      "metadata": {},
      "outputs": [
        {
          "data": {
            "text/plain": [
              "0.8467701552328493"
            ]
          },
          "execution_count": 30,
          "metadata": {},
          "output_type": "execute_result"
        }
      ],
      "source": [
        "from sklearn.ensemble import RandomForestClassifier\n",
        "rfc = RandomForestClassifier()\n",
        "rfc.fit(X_train_BOW,y_train)\n",
        "pred1 = rfc.predict(X_test_BOW)\n",
        "accuracy_score(y_test,pred1)"
      ]
    },
    {
      "cell_type": "code",
      "execution_count": 31,
      "metadata": {},
      "outputs": [
        {
          "data": {
            "text/plain": [
              "0.7386079118678017"
            ]
          },
          "execution_count": 31,
          "metadata": {},
          "output_type": "execute_result"
        }
      ],
      "source": [
        "cv1 = CountVectorizer(ngram_range=(2,2),max_features=5000)\n",
        "\n",
        "X_train_BOW = cv1.fit_transform(X_train[\"review\"]).toarray()\n",
        "X_test_BOW = cv1.transform(X_test[\"review\"]).toarray()\n",
        "\n",
        "rf = RandomForestClassifier()\n",
        "rf.fit(X_train_BOW,y_train)\n",
        "pred1 = rf.predict(X_test_BOW)\n",
        "accuracy_score(y_test,pred1)"
      ]
    },
    {
      "cell_type": "code",
      "execution_count": 32,
      "metadata": {},
      "outputs": [
        {
          "data": {
            "text/plain": [
              "0.8552829243865798"
            ]
          },
          "execution_count": 32,
          "metadata": {},
          "output_type": "execute_result"
        }
      ],
      "source": [
        "tfidf = TfidfVectorizer()\n",
        "\n",
        "X_train_BOW = tfidf.fit_transform(X_train[\"review\"]).toarray()\n",
        "X_test_BOW = tfidf.transform(X_test[\"review\"]).toarray()\n",
        "\n",
        "rf1 = RandomForestClassifier()\n",
        "rf1.fit(X_train_BOW,y_train)\n",
        "pred1 = rf1.predict(X_test_BOW)\n",
        "accuracy_score(y_test,pred1)\n",
        "\n"
      ]
    },
    {
      "cell_type": "code",
      "execution_count": null,
      "metadata": {},
      "outputs": [],
      "source": []
    }
  ],
  "metadata": {
    "accelerator": "GPU",
    "colab": {
      "gpuType": "T4",
      "provenance": []
    },
    "kernelspec": {
      "display_name": "Python 3",
      "name": "python3"
    },
    "language_info": {
      "codemirror_mode": {
        "name": "ipython",
        "version": 3
      },
      "file_extension": ".py",
      "mimetype": "text/x-python",
      "name": "python",
      "nbconvert_exporter": "python",
      "pygments_lexer": "ipython3",
      "version": "3.13.1"
    }
  },
  "nbformat": 4,
  "nbformat_minor": 0
}
